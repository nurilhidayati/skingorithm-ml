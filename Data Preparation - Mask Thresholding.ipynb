{
 "cells": [
  {
   "cell_type": "code",
   "execution_count": 2,
   "metadata": {},
   "outputs": [],
   "source": [
    "import os\n",
    "from skimage import io\n",
    "import numpy as np\n",
    "import matplotlib.pyplot as plt\n",
    "import cv2\n",
    "from PIL import Image\n",
    "import re"
   ]
  },
  {
   "cell_type": "code",
   "execution_count": 3,
   "metadata": {},
   "outputs": [],
   "source": [
    "def sorted_alphanumeric(data):\n",
    "    convert = lambda text: int(text) if text.isdigit() else text.lower()\n",
    "    alphanum_key = lambda key: [ convert(c) for c in re.split('([0-9]+)', key) ] \n",
    "    return sorted(data, key=alphanum_key)"
   ]
  },
  {
   "cell_type": "code",
   "execution_count": 4,
   "metadata": {},
   "outputs": [
    {
     "name": "stdout",
     "output_type": "stream",
     "text": [
      "1.tif\n",
      "2.tif\n",
      "3.tif\n",
      "4.tif\n",
      "5.tif\n",
      "6.tif\n",
      "7.tif\n",
      "8.tif\n",
      "9.tif\n",
      "10.tif\n",
      "11.tif\n",
      "12.tif\n",
      "13.tif\n",
      "14.tif\n",
      "15.tif\n",
      "16.tif\n",
      "17.tif\n",
      "18.tif\n",
      "19.tif\n",
      "20.tif\n",
      "21.tif\n",
      "22.tif\n",
      "23.tif\n",
      "24.tif\n",
      "25.tif\n",
      "26.tif\n",
      "27.tif\n",
      "28.tif\n",
      "29.tif\n",
      "30.tif\n",
      "31.tif\n",
      "32.tif\n",
      "33.tif\n",
      "34.tif\n",
      "35.tif\n",
      "36.tif\n",
      "37.tif\n",
      "38.tif\n",
      "39.tif\n",
      "40.tif\n",
      "41.tif\n",
      "42.tif\n",
      "43.tif\n",
      "44.tif\n",
      "45.tif\n",
      "46.tif\n",
      "47.tif\n",
      "48.tif\n",
      "49.tif\n",
      "50.tif\n"
     ]
    }
   ],
   "source": [
    "path = 'C:/Users/DPJSIG04-PRO/Documents/capstone/project/panda/mask_resize/'\n",
    "filename = os.listdir(path)\n",
    "srtdfile = sorted_alphanumeric(filename)\n",
    "masks = []\n",
    "\n",
    "for file in srtdfile:\n",
    "    print(file)\n",
    "    mask = io.imread(path + file)\n",
    "    mask = np.where(mask>0, 255, mask)\n",
    "    masks.append(mask)\n",
    "\n",
    "\n",
    "\n"
   ]
  },
  {
   "cell_type": "code",
   "execution_count": 5,
   "metadata": {},
   "outputs": [
    {
     "name": "stdout",
     "output_type": "stream",
     "text": [
      "[[0 0 0 ... 0 0 0]\n",
      " [0 0 0 ... 0 0 0]\n",
      " [0 0 0 ... 0 0 0]\n",
      " ...\n",
      " [0 0 0 ... 0 0 0]\n",
      " [0 0 0 ... 0 0 0]\n",
      " [0 0 0 ... 0 0 0]]\n"
     ]
    }
   ],
   "source": [
    "print(mask)"
   ]
  },
  {
   "cell_type": "code",
   "execution_count": 6,
   "metadata": {},
   "outputs": [
    {
     "name": "stdout",
     "output_type": "stream",
     "text": [
      "[  0 255]\n"
     ]
    }
   ],
   "source": [
    "print(np.unique(masks))"
   ]
  },
  {
   "cell_type": "code",
   "execution_count": 7,
   "metadata": {},
   "outputs": [],
   "source": [
    "for (i, new) in enumerate(masks):\n",
    "    im = Image.fromarray(new)\n",
    "    im.save('{}{}{}'.format('C:/Users/DPJSIG04-PRO/Documents/capstone/project/panda/mask_treshold/',i+1,'.tif'))"
   ]
  },
  {
   "cell_type": "code",
   "execution_count": null,
   "metadata": {},
   "outputs": [],
   "source": []
  },
  {
   "cell_type": "code",
   "execution_count": null,
   "metadata": {},
   "outputs": [],
   "source": []
  }
 ],
 "metadata": {
  "interpreter": {
   "hash": "11ea4d73d55668014694d489153919fd5b5b39b93d6401e332d9cf3968a6222f"
  },
  "kernelspec": {
   "display_name": "Python 3",
   "language": "python",
   "name": "python3"
  },
  "language_info": {
   "codemirror_mode": {
    "name": "ipython",
    "version": 3
   },
   "file_extension": ".py",
   "mimetype": "text/x-python",
   "name": "python",
   "nbconvert_exporter": "python",
   "pygments_lexer": "ipython3",
   "version": "3.8.8"
  }
 },
 "nbformat": 4,
 "nbformat_minor": 2
}
